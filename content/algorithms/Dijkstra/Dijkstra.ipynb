{
 "cells": [
  {
   "cell_type": "markdown",
   "metadata": {},
   "source": [
    "# Shortest path with Dijkstra's algorithm"
   ]
  },
  {
   "cell_type": "markdown",
   "metadata": {},
   "source": [
    "When it comes to finding the shortest path for a weighted graph, Dijkstra's algorithm has always been everyone's favourite. In this notebook, we'll get to know how it works and is implemented.<b> Shortest path problem</b> is a graph problem where the aim is to find a path between 2 nodes having the minimum distance covered."
   ]
  },
  {
   "cell_type": "markdown",
   "metadata": {},
   "source": [
    "## Shortest Path Problem"
   ]
  },
  {
   "cell_type": "markdown",
   "metadata": {},
   "source": [
    "Let's say you want to travel from Delhi(DEL), India to London(LCY), UK via flights that have various routes with different stops, namely, Frankfurt(FRA), Zurich(ZRH), Amsterdam(AMS), Geneva(GVA) and Dublin(DUB). Now, you want to find the shortest path as you are in a hurry and want to get to London as soon as possible.<br> \n",
    "An important thing to know is that any subpath from C $\\rightarrow$ E of the shortest path A $\\rightarrow$ E is also the shortest path from node C to node E. That means not only one will get the shortest path from Delhi to London but also to other stops from Delhi.\n",
    "\n",
    "<b>ASSUMPTIONS</b>\n",
    "- Distance taken is imaginary.\n",
    "- No waiting time at airports.\n",
    "- The shortest distance in this problem means shortest time costing. \n",
    "- Speed is considered to be uniform\n",
    "- Scale : 1 unit = 1000kms\n",
    "\n",
    "So, the following directed graph describes all paths available with the distance between them."
   ]
  },
  {
   "cell_type": "code",
   "execution_count": 1,
   "metadata": {
    "scrolled": true
   },
   "outputs": [
    {
     "data": {
      "image/png": "[encoded data removed]",
      "text/plain": [
       "<Figure size 432x288 with 1 Axes>"
      ]
     },
     "metadata": {},
     "output_type": "display_data"
    }
   ],
   "source": [
    "#importing libraries\n",
    "import networkx as nx\n",
    "\n",
    "flight_path= nx.DiGraph()\n",
    "\n",
    "flight_path.add_nodes_from(['DEL','AMS','DUB','ZRH','FRA','LCY'])\n",
    "\n",
    "flight_path.add_weighted_edges_from([('DEL','ZRH',5),('DEL','FRA',6),('DEL','DUB',7), ('ZRH','LCY',6),\n",
    "                                     ('FRA','LCY',3),('AMS','LCY',5),('DUB','LCY',4),('AMS','FRA',1),\n",
    "                                    ('DUB','AMS',2),('ZRH','GVA',3),('GVA','LCY',1)])\n",
    "\n",
    "pos= nx.planar_layout(flight_path)\n",
    "\n",
    "# drawing customised nodes\n",
    "nx.draw(flight_path, pos, with_labels=True, node_size=1300, node_color='maroon', font_color='white')\n",
    "\n",
    "# adding edge labels\n",
    "nx.draw_networkx_edge_labels(flight_path, pos, edge_labels = nx.get_edge_attributes(flight_path, 'weight'));"
   ]
  },
  {
   "cell_type": "markdown",
   "metadata": {},
   "source": [
    "## Dijkstra's Algorithm\n",
    "\n",
    "Dijkstra's algorithm is used to find the shortest path between nodes or commonly from one source node to every other node in the graph, where edge weight represents the cost/ distance between 2 nodes in the case of a weighted graph. It can work with both directed and undirected graphs, but <b>it is not suitable for graphs with NEGATIVE edges.</b><br>\n",
    "Time complexity of Dijkstra's algorithm is $O(\\ V^{2})$, but with minimum priority queue, it comes down to $O(\\ V + E\\text{ log } V\\ )$\n",
    "\n",
    "### Algorithm\n",
    "\n",
    "1. Convert your problem into a graph equivalent.\n",
    "2. Create a list of unvisited vertices. \n",
    "3. Assign the starting point as source node with <b>distance(cost)= 0</b> and other node's distance as infinity.\n",
    "4. For every unvisited neighbour, calculate the minimum distance from the current node.\n",
    "5. The new distance is calculated as `minimum(current distance, distance of previous node + edge weight)`\n",
    "6. When all the neighbours have been visited, remove the node from the unvisited list and select the next node with the minimum distance.\n",
    "7. Repeat from step 4.\n",
    "8. The final graph will represent all the nodes with minimum distance and the algorithm will end."
   ]
  },
  {
   "cell_type": "markdown",
   "metadata": {},
   "source": [
    "Let's look at the example of the directed graph mentioned above. But, before moving forward, here are some things one should keep in mind. In the following graphs, edge weight defines the distance between 2 nodes, black edge represents unvisited edges, red represents edges that are being traversed, and green represents visited edges. Let's begin!!"
   ]
  },
  {
   "cell_type": "markdown",
   "metadata": {},
   "source": [
    "According to Dijkstra's algorithm,\n",
    "- First, assign all stops(nodes) infinite values except the source node (DEL in this case as the path starts from Delhi), which is assigned a value of 0. This is because the distance one needs to cover to reach other nodes is assumed to be unknown and, hence maximum value possible is being assigned. (fig. 1)\n",
    "- Dijkstra is based on the greedy approach, which means one needs to select the node with the minimum distance, which is DEL having a distance of 0 units, and this approach is being followed in the whole process.\n",
    "- The next step is to start traversing the neighbours of DEL and update the distance of all neighbouring nodes as shown in fig. 2. While updating the distance, always keep in mind that the updated distance should be `minimum(current distance, distance of previous node + edge weight)`. Like, \n",
    "    - DUB : `min(infinity, 7) = 7`\n",
    "    - FRA : `min(infinity, 6) = 6`\n",
    "    - ZRH : `min(infinity, 5) = 5`"
   ]
  },
  {
   "cell_type": "markdown",
   "metadata": {},
   "source": [
    "![Figure 1&2](Graphs/figure1_2.png \"Figure 1 and Figure 2\")"
   ]
  },
  {
   "cell_type": "markdown",
   "metadata": {},
   "source": [
    "- Now, pick the next unvisited node with the minimum distance value. ZRH has the minimum distance (5 units), so it's time to update its neighbour's (LCY, GVA) distance.(fig. 3)\n",
    "    - LCY : `min(infinity, 5+6) = 11`\n",
    "    - GVA : `min(infinity, 5+3) = 8`\n",
    "- Similar to the previous step, the next unvisited node with minimum distance is FRA (6 units).Hence, update its neighbours. (fig. 4)\n",
    "    - AMS : `min(infinity, 6+1) = 7`\n",
    "    - LCY : `min(11, 6+3) = 9`"
   ]
  },
  {
   "cell_type": "markdown",
   "metadata": {},
   "source": [
    "![Figure 3&4](Graphs/figure3_4.png \"Figure 3 and Figure 4\")"
   ]
  },
  {
   "cell_type": "markdown",
   "metadata": {},
   "source": [
    "- Here, 2 nodes are left with minimum distance (7 units), AMS and DUB. So, let's update their neighbours one by one.(fig. 5)\n",
    "    - DUB :\n",
    "        - AMS : `min(7, 7+2) = 7`\n",
    "        - LCY : `min(9, 7+4) = 9`\n",
    "    - AMS:\n",
    "        - LCY : `min(9, 7+5) = 9`\n",
    "- Among the last 2 nodes, our destination is LCY. So, last update is for GVA's neighbour.\n",
    "    - LCY : `min(9, 8+1) = 9`\n",
    "    \n",
    "Figure 6 shows the final graph with shortest distance to each node from DEL(source node) and it comes out that the shortest distance to LCY from DEL is 9 units which have 2 paths:<br>\n",
    "- (DEL -> FRA -> LCY) <br>\n",
    "- (DEL -> ZRH -> GVA -> LCY)\n",
    "\n",
    "So, one can take any of these paths to reach as soon as possible. But, in case there are more than one path like in this situation, <b>dijkstra's algorithm returns the shortest path with minimum number of edges. </b>"
   ]
  },
  {
   "cell_type": "markdown",
   "metadata": {},
   "source": [
    "![Figure 5&6](Graphs/figure5_6.png \"Figure 5 and Figure 6\")"
   ]
  },
  {
   "cell_type": "markdown",
   "metadata": {},
   "source": [
    "## NetworkX Implementation"
   ]
  },
  {
   "cell_type": "markdown",
   "metadata": {},
   "source": [
    "In the previous example the number of nodes were less and it wasn't that complicated, but, in real life problems, there can be a lot of nodes and thus, it is needed to maintain proper record. Let's see the example in NetworkX implementation."
   ]
  },
  {
   "cell_type": "code",
   "execution_count": 2,
   "metadata": {},
   "outputs": [
    {
     "name": "stdout",
     "output_type": "stream",
     "text": [
      "9 ['DEL', 'FRA', 'LCY']\n"
     ]
    }
   ],
   "source": [
    "#importing required libraries\n",
    "from heapq import heappush as push\n",
    "from heapq import heappop as pop\n",
    "from itertools import count\n",
    "\n",
    "'''\n",
    "So, the graph 'flight_path' is already defined with all nodes and edges. Now, before implementing the algorithm, \n",
    "one first needs to make the data available in the proper format to access.\n",
    "\n",
    "The first thing to do is to have a dictionary with every node as keys and (connecting node, weight) as values so that one can\n",
    "traverse easily.\n",
    "'''\n",
    "flight_succ = flight_path._succ if flight_path.is_directed() else flight_path._adj\n",
    "\n",
    "# we need to extract the distance between 2 nodes from the graph and for that we need to define weight function\n",
    "def _weight_function(G, weight):\n",
    "    return lambda u, v, data: data.get(weight, 1)\n",
    "\n",
    "weight = _weight_function(flight_path, \"weight\")\n",
    "\n",
    "'''\n",
    "The next step is to define various dictionaries to store and track all nodes path.\n",
    "'''\n",
    "dist = {}  # dictionary of final distances\n",
    "seen = {}  # dictionary of visited nodes with recent shortest distance\n",
    "paths= {}  # dictionary to store path list\n",
    "\n",
    "# fringe is heapq with 3-tuples (distance,c,node)\n",
    "# use the count c to avoid comparing nodes (may not be able to)\n",
    "c = count()\n",
    "fringe = []\n",
    "\n",
    "# we want to find the shortest distance from DEL to LCY\n",
    "source='DEL'\n",
    "target='LCY'\n",
    "paths[source]=[source] \n",
    "\n",
    "# Now, as I said earlier we'll assign the source node 0 value\n",
    "seen[source] = 0 \n",
    "push(fringe, (0, next(c), source))\n",
    "\n",
    "'''\n",
    "It's time to start traversing the graph starting from source node.\n",
    "'''\n",
    "\n",
    "while fringe: \n",
    "        (d, _, v) = pop(fringe) # d will store the distance of the node and v will store the node name\n",
    "        if v in dist:\n",
    "            continue  # already searched this node.      \n",
    "        dist[v] = d \n",
    "        if v == target: \n",
    "            break\n",
    "           \n",
    "        # traversing the neighbours of the node\n",
    "        for u, e in flight_succ[v].items(): \n",
    "            distance = weight(v, u, e)\n",
    "            \n",
    "            if distance is None:\n",
    "                continue\n",
    "            # vu_dist stores the total distance from source node to u. Like, if v=ZRH and u= GVA, then vu_dist = 8    \n",
    "            vu_dist = dist[v] + distance \n",
    "            \n",
    "            '''\n",
    "            If u is already in dist then there can be 2 cases, either the graph has negative cycle or there might\n",
    "            be another shortest path to u.\n",
    "            '''\n",
    "            if u in dist:\n",
    "                u_dist = dist[u]\n",
    "                if vu_dist < u_dist:\n",
    "                    raise ValueError(\"Contradictory paths found:\", \"negative weights?\")\n",
    "                    \n",
    "            # updating the new shortest distance and adding the next node to visit\n",
    "            elif u not in seen or vu_dist < seen[u]:\n",
    "                seen[u] = vu_dist\n",
    "                push(fringe, (vu_dist, next(c), u))\n",
    "                if paths is not None:\n",
    "                    paths[u] = paths[v] + [u]\n",
    "\n",
    "# printing the distance and path from the source node 'DEL' to target node 'LCY'                    \n",
    "print(dist[target], paths[target])"
   ]
  },
  {
   "cell_type": "markdown",
   "metadata": {},
   "source": [
    "Don't worry, you don't need to write all this code again and again. NetworkX got you covered!! So, NetworkX provides a lot of functions with the help of which one can actually find the [shortest path](https://networkx.org/documentation/stable/reference/algorithms/shortest_paths.html) based on their needs. \n",
    "\n",
    "All functions using dijkstra's algorithm are similar, but, for this example the most suitable is [single_source_dijkstra()](https://networkx.org/documentation/stable/reference/algorithms/generated/networkx.algorithms.shortest_paths.weighted.single_source_dijkstra.html#networkx.algorithms.shortest_paths.weighted.single_source_dijkstra). It comes out that this function actually gives the same output as the one calculated in the above example."
   ]
  },
  {
   "cell_type": "code",
   "execution_count": 3,
   "metadata": {},
   "outputs": [
    {
     "data": {
      "text/plain": [
       "(9, ['DEL', 'FRA', 'LCY'])"
      ]
     },
     "execution_count": 3,
     "metadata": {},
     "output_type": "execute_result"
    }
   ],
   "source": [
    "nx.single_source_dijkstra(flight_path, 'DEL', target='LCY', weight=\"weight\")"
   ]
  },
  {
   "cell_type": "markdown",
   "metadata": {},
   "source": [
    "## Applications of Dijkstra's Algorithm\n",
    "\n",
    "It is used as a part of applications to find the shortest path if required. There are other factors as well which are considered in every application while implementing Dijkstra's algorithm. Like,\n",
    "- In special drones or robots for delivery service, it is used as a part to identify the shortest path possible.\n",
    "- One of the most common use case is Google Maps. It helps to find the best route possible in shortest time.\n",
    "- In social media applications, for smaller graphs it can be used effectively to suggest the \"people you may know\" section.\n",
    "- As the above example, it can be used in a software which calculates and informs the estimate arrival time, best route etc. of a flight to a user.\n",
    "- It is used in IP routing to find Open shortest Path First.\n",
    "- It is used in the telephone network."
   ]
  },
  {
   "cell_type": "markdown",
   "metadata": {},
   "source": [
    "## Advantages and Disadvantages of Dijkstra's Algorithm\n",
    "\n",
    "<b>ADVANTAGES</b>\n",
    " - Once it is carried out, we can find the shortest path to all permanently labelled node.\n",
    " - Only one diagram is enough to reflect all distances/paths.\n",
    " - It is efficient enough to use for relatively large problems.\n",
    " \n",
    "<b>DISADVANTAGES</b>\n",
    "- It cannot handle negative weights which leads to acyclic graphs and most often cannot obtain the right shortest path.\n",
    "- It is a greedy algorithm that means it is possible for the algorithm to select the current best option which can make the algorithm get sidetracked following a potential path that doesn’t exist, simply because the edges along it form a short path."
   ]
  },
  {
   "cell_type": "markdown",
   "metadata": {},
   "source": [
    "#### Reference\n",
    "\n",
    "Shivani Sanan, Leena jain, Bharti Kappor (2013). (IJAIEM) \"Shortest Path Algorithm\" <br>\n",
    "https://www.ijaiem.org/volume2issue7/IJAIEM-2013-07-23-079.pdf"
   ]
  }
 ],
 "metadata": {
  "kernelspec": {
   "display_name": "Python 3",
   "language": "python",
   "name": "python3"
  },
  "language_info": {
   "codemirror_mode": {
    "name": "ipython",
    "version": 3
   },
   "file_extension": ".py",
   "mimetype": "text/x-python",
   "name": "python",
   "nbconvert_exporter": "python",
   "pygments_lexer": "ipython3",
   "version": "3.8.5"
  }
 },
 "nbformat": 4,
 "nbformat_minor": 4
}
